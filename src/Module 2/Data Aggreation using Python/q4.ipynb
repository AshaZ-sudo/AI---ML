{
 "cells": [
  {
   "cell_type": "markdown",
   "metadata": {},
   "source": [
    "Title: Hands-on: Real-World Data Aggregation<br>\n",
    "Objective: Apply learned concepts to real-world data scenarios"
   ]
  },
  {
   "cell_type": "markdown",
   "metadata": {},
   "source": [
    "Task 1: Analyzing Sales by Region<br>\n",
    "\n",
    "Task: Use a real-world sales dataset to calculate yearly sales trends by region.<br>\n",
    " Steps:<br>\n",
    " 28. Acquire a dataset containing columns such as 'date', 'region', and 'sales'.<br>\n",
    " 29. Extract the year from the 'date' column.<br>\n",
    " 30. Group by 'year' and 'region' to apply the sum aggregation on 'sales'"
   ]
  },
  {
   "cell_type": "code",
   "execution_count": 14,
   "metadata": {},
   "outputs": [
    {
     "name": "stdout",
     "output_type": "stream",
     "text": [
      "   year region  sales\n",
      "0  2021  North   1200\n",
      "1  2021  South   1500\n",
      "2  2022  North   1300\n",
      "3  2022  South   1600\n",
      "4  2023  North   1400\n",
      "5  2023  South   1700\n"
     ]
    }
   ],
   "source": [
    "# Write your code from here\n",
    "import pandas as pd\n",
    "\n",
    "# Step 28: Acquire a dataset (simulated here)\n",
    "data = {\n",
    "    'date': ['2021-03-15', '2021-07-20', '2022-01-05', '2022-09-10', '2023-02-14', '2023-06-30'],\n",
    "    'region': ['North', 'South', 'North', 'South', 'North', 'South'],\n",
    "    'sales': [1200, 1500, 1300, 1600, 1400, 1700]\n",
    "}\n",
    "\n",
    "df = pd.DataFrame(data)\n",
    "\n",
    "# Step 29: Extract the year from the 'date' column\n",
    "df['date'] = pd.to_datetime(df['date'])  # convert to datetime\n",
    "df['year'] = df['date'].dt.year          # extract year\n",
    "\n",
    "# Step 30: Group by 'year' and 'region' and sum sales\n",
    "sales_by_year_region = df.groupby(['year', 'region'])['sales'].sum().reset_index()\n",
    "\n",
    "print(sales_by_year_region)\n"
   ]
  },
  {
   "cell_type": "markdown",
   "metadata": {},
   "source": [
    "Task 2: Customer Purchase Patterns<br>\n",
    "\n",
    "Task: Find the top 5 customers by the total amount spent using a purchases dataset.<br>\n",
    " Steps:<br>\n",
    " 31. Load a dataset with 'customer_id' and 'amount_spent'.<br>\n",
    " 32. Group by 'customer_id'.<br>\n",
    " 33. Use .sum() on 'amount_spent' and sort values"
   ]
  },
  {
   "cell_type": "code",
   "execution_count": 15,
   "metadata": {},
   "outputs": [
    {
     "name": "stdout",
     "output_type": "stream",
     "text": [
      "customerid\n",
      "103    700\n",
      "105    700\n",
      "101    600\n",
      "102    250\n",
      "104    250\n",
      "Name: amount_spent, dtype: int64\n"
     ]
    }
   ],
   "source": [
    "import pandas as pd\n",
    "\n",
    "# Simulated data (you can replace this with your own dataset)\n",
    "df = pd.DataFrame({\n",
    "    'CustomerID': [101, 102, 101, 103, 104, 102, 105, 103, 101, 105],\n",
    "    'Amount Spent': [200, 150, 300, 400, 250, 100, 500, 300, 100, 200]\n",
    "})\n",
    "\n",
    "# Clean column names: lowercase and replace spaces with underscores\n",
    "df.columns = df.columns.str.lower().str.replace(' ', '_')\n",
    "\n",
    "# Group by customer and get top 5 by total amount spent\n",
    "top_customers = df.groupby('customerid')['amount_spent'].sum().sort_values(ascending=False).head(5)\n",
    "\n",
    "print(top_customers)\n"
   ]
  },
  {
   "cell_type": "markdown",
   "metadata": {},
   "source": [
    " Task 3: Seasonality Analysis<br>\n",
    "\n",
    " Task: Determine which months have the highest and lowest sales for a retail dataset.<br>\n",
    " Steps:<br>\n",
    " 34. Use a dataset with 'transaction_date' and 'sales'.<br>\n",
    " 35. Extract the month from 'transaction_date'.<br>\n",
    " 36. Group by 'month' and sum 'sales', then sort to find extremes"
   ]
  },
  {
   "cell_type": "code",
   "execution_count": 16,
   "metadata": {},
   "outputs": [
    {
     "name": "stdout",
     "output_type": "stream",
     "text": [
      "Sales by Month (Ascending):\n",
      "month\n",
      "January     1100\n",
      "February    1250\n",
      "April       1400\n",
      "March       1700\n",
      "Name: sales, dtype: int64\n",
      "\n",
      "Month with Lowest Sales: January\n",
      "Month with Highest Sales: March\n"
     ]
    }
   ],
   "source": [
    "# Write your code from here\n",
    "import pandas as pd\n",
    "\n",
    "# Step 34: Sample retail dataset\n",
    "data = {\n",
    "    'transaction_date': [\n",
    "    '2023-01-15', '2023-01-20', '2023-02-10', '2023-02-25',\n",
    "    '2023-03-05', '2023-03-18', '2023-04-01', '2023-04-22'\n",
    "    ],\n",
    "    'sales': [500, 600, 550, 700, 800, 900, 650, 750]\n",
    "}\n",
    "\n",
    "df = pd.DataFrame(data)\n",
    "\n",
    "# Convert 'transaction_date' to datetime\n",
    "df['transaction_date'] = pd.to_datetime(df['transaction_date'])\n",
    "\n",
    "# Step 35: Extract month number or name from 'transaction_date'\n",
    "df['month'] = df['transaction_date'].dt.month_name()  # Use .dt.month for month number\n",
    "\n",
    "# Step 36: Group by month and sum sales\n",
    "monthly_sales = df.groupby('month')['sales'].sum()\n",
    "\n",
    "# Sort sales to find highest and lowest months\n",
    "monthly_sales_sorted = monthly_sales.sort_values()\n",
    "\n",
    "print(\"Sales by Month (Ascending):\")\n",
    "print(monthly_sales_sorted)\n",
    "\n",
    "print(\"\\nMonth with Lowest Sales:\", monthly_sales_sorted.index[0])\n",
    "print(\"Month with Highest Sales:\", monthly_sales_sorted.index[-1])\n"
   ]
  }
 ],
 "metadata": {
  "kernelspec": {
   "display_name": "Python 3",
   "language": "python",
   "name": "python3"
  },
  "language_info": {
   "codemirror_mode": {
    "name": "ipython",
    "version": 3
   },
   "file_extension": ".py",
   "mimetype": "text/x-python",
   "name": "python",
   "nbconvert_exporter": "python",
   "pygments_lexer": "ipython3",
   "version": "3.10.12"
  }
 },
 "nbformat": 4,
 "nbformat_minor": 2
}
