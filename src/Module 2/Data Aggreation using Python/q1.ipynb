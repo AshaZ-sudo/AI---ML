{
 "cells": [
  {
   "cell_type": "markdown",
   "metadata": {},
   "source": [
    "Title: Introduction to Data Aggregation\n",
    "<br>\n",
    "Objective: Understand the basic concepts of data aggregation and practice simple aggregation methods."
   ]
  },
  {
   "cell_type": "code",
   "execution_count": 4,
   "metadata": {},
   "outputs": [
    {
     "name": "stdout",
     "output_type": "stream",
     "text": [
      "Original Data:\n",
      "  Region Month  Sales\n",
      "0  North   Jan    200\n",
      "1  South   Jan    150\n",
      "2   East   Jan    100\n",
      "3   West   Jan    180\n",
      "4  North   Feb    220\n",
      "5  South   Feb    170\n",
      "6   East   Feb    120\n",
      "7   West   Feb    160\n",
      "\n",
      "Total Sales: 1300\n",
      "Average Sales: 162.5\n",
      "Number of Entries: 8\n",
      "Min Sales: 100\n",
      "Max Sales: 220\n",
      "\n",
      "Total Sales by Region:\n",
      "Region\n",
      "East     220\n",
      "North    420\n",
      "South    320\n",
      "West     340\n",
      "Name: Sales, dtype: int64\n"
     ]
    }
   ],
   "source": [
    "import pandas as pd\n",
    "\n",
    "# Sample data: Monthly sales for different regions\n",
    "data = {\n",
    "    'Region': ['North', 'South', 'East', 'West', 'North', 'South', 'East', 'West'],\n",
    "    'Month': ['Jan', 'Jan', 'Jan', 'Jan', 'Feb', 'Feb', 'Feb', 'Feb'],\n",
    "    'Sales': [200, 150, 100, 180, 220, 170, 120, 160]\n",
    "    }\n",
    "\n",
    "# Create a DataFrame\n",
    "df = pd.DataFrame(data)\n",
    "\n",
    "# Display the original data\n",
    "print(\"Original Data:\")\n",
    "print(df)\n",
    "\n",
    "# Aggregate: Total sales\n",
    "total_sales = df['Sales'].sum()\n",
    "print(\"\\nTotal Sales:\", total_sales)\n",
    "\n",
    "# Aggregate: Average sales\n",
    "average_sales = df['Sales'].mean()\n",
    "print(\"Average Sales:\", average_sales)\n",
    "\n",
    "# Aggregate: Count of entries\n",
    "count_sales = df['Sales'].count()\n",
    "print(\"Number of Entries:\", count_sales)\n",
    "\n",
    "# Aggregate: Minimum and Maximum sales\n",
    "min_sales = df['Sales'].min()\n",
    "max_sales = df['Sales'].max()\n",
    "print(\"Min Sales:\", min_sales)\n",
    "print(\"Max Sales:\", max_sales)\n",
    "\n",
    "# Group by Region and get total sales per region\n",
    "sales_by_region = df.groupby('Region')['Sales'].sum()\n",
    "print(\"\\nTotal Sales by Region:\")\n",
    "print(sales_by_region)\n"
   ]
  },
  {
   "cell_type": "markdown",
   "metadata": {},
   "source": []
  },
  {
   "cell_type": "markdown",
   "metadata": {},
   "source": [
    "Task 1: Calculating Sum\n",
    "<br>\n",
    "Task: Use a numerical dataset containing columns like 'sales', 'profit', and 'quantity'.\n",
    "Calculate the total sales for the dataset.\n",
    "<br>\n",
    "Steps:<br>\n",
    "1. Load the dataset using pandas.<br>\n",
    "2. Apply the .sum() function on the 'sales' column.<br>\n",
    "3. Verify the result by manually summing a portion of the 'sales' values."
   ]
  },
  {
   "cell_type": "code",
   "execution_count": 1,
   "metadata": {},
   "outputs": [
    {
     "name": "stdout",
     "output_type": "stream",
     "text": [
      "Dataset:\n",
      "   sales  profit  quantity\n",
      "0    100      20         1\n",
      "1    200      50         3\n",
      "2    150      30         2\n",
      "3    300      60         5\n",
      "4    250      40         4\n"
     ]
    }
   ],
   "source": [
    "import pandas as pd\n",
    "\n",
    "# Sample dataset\n",
    "data = {\n",
    "    'sales': [100, 200, 150, 300, 250],\n",
    "    'profit': [20, 50, 30, 60, 40],\n",
    "    'quantity': [1, 3, 2, 5, 4]\n",
    "}\n",
    "\n",
    "df = pd.DataFrame(data)\n",
    "\n",
    "print(\"Dataset:\")\n",
    "print(df)\n"
   ]
  },
  {
   "cell_type": "markdown",
   "metadata": {},
   "source": [
    "Task 2: Calculating Mean<br>\n",
    "\n",
    "Task: Calculate the average quantity sold.<br>\n",
    "Steps:<br>\n",
    "4. Load the dataset.<br>\n",
    "5. Use the .mean() function on the 'quantity' column to find the average.<br>\n",
    "6. Double-check by calculating the mean manually on a small selection."
   ]
  },
  {
   "cell_type": "code",
   "execution_count": 3,
   "metadata": {},
   "outputs": [
    {
     "name": "stdout",
     "output_type": "stream",
     "text": [
      "Dataset:\n",
      "   sales  profit  quantity\n",
      "0    100      20         1\n",
      "1    200      50         3\n",
      "2    150      30         2\n",
      "3    300      60         5\n",
      "4    250      40         4\n"
     ]
    }
   ],
   "source": [
    "# Write your code from here\n",
    "import pandas as pd\n",
    "\n",
    "# Sample dataset\n",
    "data = {\n",
    "    'sales': [100, 200, 150, 300, 250],\n",
    "    'profit': [20, 50, 30, 60, 40],\n",
    "    'quantity': [1, 3, 2, 5, 4]\n",
    "}\n",
    "\n",
    "df = pd.DataFrame(data)\n",
    "\n",
    "print(\"Dataset:\")\n",
    "print(df)\n"
   ]
  }
 ],
 "metadata": {
  "kernelspec": {
   "display_name": ".venv",
   "language": "python",
   "name": "python3"
  },
  "language_info": {
   "codemirror_mode": {
    "name": "ipython",
    "version": 3
   },
   "file_extension": ".py",
   "mimetype": "text/x-python",
   "name": "python",
   "nbconvert_exporter": "python",
   "pygments_lexer": "ipython3",
   "version": "3.9.2"
  }
 },
 "nbformat": 4,
 "nbformat_minor": 2
}
